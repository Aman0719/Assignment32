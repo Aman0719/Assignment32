{
 "cells": [
  {
   "cell_type": "code",
   "execution_count": null,
   "id": "c2036285-2ec5-4c04-9ea2-373e25227e3e",
   "metadata": {},
   "outputs": [],
   "source": [
    "Q1. What is the Probability density function?\n",
    "\n",
    "Ans-\n",
    "\n",
    "Probability density function (PDF) is a mathematical function used in probability theory to describe the probability distribution of a continuous random variable. \n",
    "It is a function that describes the relative likelihood for a continuous random variable to take on a particular value.\n",
    "\n",
    "More specifically, the PDF gives the probability density at each possible value of the random variable. \n",
    "The integral of the PDF over a certain range of values gives the probability that the random variable falls within that range.\n",
    "\n",
    "The PDF must satisfy certain properties, including that it is non-negative for all possible values of the random variable, and that its integral over the entire range of possible values is equal to one.\n",
    "\n",
    "The PDF is an important concept in many areas of mathematics, including statistics, probability theory, and physics, where it is often used to describe the probability distribution of physical phenomena, such as the position or velocity of particles in a system."
   ]
  },
  {
   "cell_type": "code",
   "execution_count": null,
   "id": "a4ad6b27-2e7b-420b-beea-7a508b105e22",
   "metadata": {},
   "outputs": [],
   "source": [
    "Q2. What are the types of Probability distribution?\n",
    "\n",
    "Ans-\n",
    "\n",
    "There are several types of probability distributions, including:\n",
    "\n",
    "1.Normal Distribution: \n",
    "Also known as the Gaussian distribution, it is a bell-shaped probability distribution that is symmetrical around the mean. \n",
    "Many natural phenomena such as height and weight of a population tend to follow this distribution.\n",
    "\n",
    "2.Binomial Distribution: \n",
    "This distribution describes the probability of a binary outcome in a finite number of independent trials.\n",
    "For example, flipping a coin multiple times and getting heads or tails can be modeled by the binomial distribution.\n",
    "\n",
    "3.Poisson Distribution: This distribution describes the probability of a certain number of events occurring in a fixed interval of time or space. \n",
    "It is often used to model rare events such as the number of car accidents in a city per day.\n",
    "\n",
    "4.Exponential Distribution: \n",
    "This distribution describes the time between events in a Poisson process, where events occur independently and at a constant rate. \n",
    "For example, the time between arrivals of customers at a store can be modeled by the exponential distribution.\n",
    "\n",
    "5.Uniform Distribution: \n",
    "This distribution describes the probability of a continuous random variable taking on any value within a certain range with equal likelihood.\n",
    "For example, the distribution of the outcomes of rolling a fair die can be modeled by a uniform distribution.\n"
   ]
  },
  {
   "cell_type": "code",
   "execution_count": null,
   "id": "d874cc93-34da-46b6-aabd-f2c3b9f86319",
   "metadata": {},
   "outputs": [],
   "source": [
    "Q3. Write a Python function to calculate the probability density function of a normal distribution with given mean and standard deviation at a given point.\n",
    "\n",
    "Ans-\n",
    "\n",
    "Here is the Python code to calculate pdf at given point "
   ]
  },
  {
   "cell_type": "code",
   "execution_count": 1,
   "id": "0f285897-acb6-4f0b-8bfd-d538993e162b",
   "metadata": {},
   "outputs": [
    {
     "name": "stdout",
     "output_type": "stream",
     "text": [
      "0.24197072451914337\n"
     ]
    }
   ],
   "source": [
    "import math\n",
    "\n",
    "def normal_pdf(x, mean, std_dev):\n",
    "    \"\"\"\n",
    "    Calculates the probability density function (PDF) of a normal distribution with a given mean and standard deviation at a given point.\n",
    "\n",
    "    Parameters:\n",
    "    x (float): The point at which to calculate the PDF.\n",
    "    mean (float): The mean of the normal distribution.\n",
    "    std_dev (float): The standard deviation of the normal distribution.\n",
    "\n",
    "    Returns:\n",
    "    float: The value of the PDF at the given point.\n",
    "    \"\"\"\n",
    "    coefficient = 1 / (std_dev * math.sqrt(2 * math.pi))\n",
    "    exponent = -(x - mean)**2 / (2 * std_dev**2)\n",
    "    return coefficient * math.exp(exponent)\n",
    "\n",
    "pdf_value = normal_pdf(1, 0, 1)\n",
    "print(pdf_value)"
   ]
  },
  {
   "cell_type": "code",
   "execution_count": null,
   "id": "a0507097-7d24-46d4-a940-49245b33778f",
   "metadata": {},
   "outputs": [],
   "source": [
    "Q4. What are the properties of Binomial distribution? Give two examples of events where binomial distribution can be applied.\n",
    "\n",
    "Ans-\n",
    "\n",
    "The binomial distribution is a discrete probability distribution that describes the number of successes in a fixed number of independent trials, each with the same probability of success. \n",
    "The properties of the binomial distribution are:\n",
    "\n",
    "The trials are independent of each other.\n",
    "1.Each trial has only two possible outcomes: success or failure.\n",
    "2.The probability of success is the same for each trial.\n",
    "3.The number of trials is fixed.\n",
    "\n",
    "Two examples of events where binomial distribution can be applied are:\n",
    "\n",
    "1.Tossing a coin: \n",
    "Suppose you toss a coin 10 times and you want to find the probability of getting exactly 7 heads.\n",
    "Each toss of the coin is an independent trial with two possible outcomes: heads or tails. \n",
    "The probability of getting a head on any one toss is 0.5 (assuming a fair coin). \n",
    "Therefore, this is an example of a binomial distribution with n=10 (the number of trials), p=0.5 (the probability of success), and k=7 (the number of successes).\n",
    "\n",
    "2.Quality control: \n",
    "Suppose a factory produces light bulbs and each light bulb has a 95% chance of being defect-free. \n",
    "A sample of 50 light bulbs is selected for quality control testing. You want to find the probability that no more than 3 bulbs are defective.\n",
    "Each light bulb is an independent trial with two possible outcomes: defect-free or defective. \n",
    "The probability of a bulb being defect-free is 0.95, and the probability of being defective is 0.05. \n",
    "Therefore, this is an example of a binomial distribution with n=50 (the number of trials), p=0.95 (the probability of success), and k=0, 1, 2, or 3 (the number of successes)."
   ]
  },
  {
   "cell_type": "code",
   "execution_count": 3,
   "id": "039c91eb-3439-495b-b0a1-58c2cbc8db0e",
   "metadata": {},
   "outputs": [
    {
     "data": {
      "image/png": "[encoded data removed]",
      "text/plain": [
       "<Figure size 640x480 with 1 Axes>"
      ]
     },
     "metadata": {},
     "output_type": "display_data"
    }
   ],
   "source": [
    "#Q5. Generate a random sample of size 1000 from a binomial distribution with probability of success 0.4 and plot a histogram of the results using matplotlib.\n",
    "\n",
    "#Ans-\n",
    "\n",
    "import numpy as np\n",
    "import matplotlib.pyplot as plt\n",
    "\n",
    "# Generate a random sample of size 1000 from a binomial distribution with p=0.4\n",
    "n = 1000\n",
    "p = 0.4\n",
    "sample = np.random.binomial(n, p, size=1000)\n",
    "\n",
    "# Plot a histogram of the sample\n",
    "plt.hist(sample, bins=20)\n",
    "plt.title(\"Binomial Distribution with p=0.4 and n=1000\")\n",
    "plt.xlabel(\"Number of Successes\")\n",
    "plt.ylabel(\"Frequency\")\n",
    "plt.show()\n"
   ]
  },
  {
   "cell_type": "code",
   "execution_count": null,
   "id": "96d7798e-6c54-4c30-9f2f-e06cf1403a83",
   "metadata": {},
   "outputs": [],
   "source": [
    "Q6. Write a Python function to calculate the cumulative distribution function of a Poisson distribution with given mean at a given point.\n",
    "\n",
    "Ans-\n",
    "\n",
    "We can use the following Python function to calculate the cumulative distribution function (CDF) of a Poisson distribution with a given mean at a given point using the formula:\n",
    "\n",
    "CDF(x) = e^(-mu) * sum(mu^k / k!, k=0 to x)\n",
    "\n",
    "where mu is the mean of the Poisson distribution, x is the point at which the CDF is to be calculated, and k is the number of occurrences."
   ]
  },
  {
   "cell_type": "code",
   "execution_count": 5,
   "id": "3f5bd8da-be8e-468a-842f-cfb6e151447e",
   "metadata": {},
   "outputs": [
    {
     "name": "stdout",
     "output_type": "stream",
     "text": [
      "0.2650259152973617\n"
     ]
    }
   ],
   "source": [
    "import math\n",
    "\n",
    "def poisson_cdf(x, mu):\n",
    "    \"\"\"\n",
    "    Calculates the cumulative distribution function (CDF) of a Poisson distribution\n",
    "    with given mean at a given point.\n",
    "    \n",
    "    Args:\n",
    "        x (int): Point at which to calculate the CDF\n",
    "        mu (float): Mean of the Poisson distribution\n",
    "    \n",
    "    Returns:\n",
    "        float: CDF value at the given point\n",
    "    \"\"\"\n",
    "    cdf = 0\n",
    "    for k in range(x + 1):\n",
    "        cdf += math.exp(-mu) * (mu**k / math.factorial(k))\n",
    "    return cdf\n",
    "\n",
    "cdf_value = poisson_cdf(3, 5)\n",
    "print(cdf_value)\n"
   ]
  },
  {
   "cell_type": "code",
   "execution_count": null,
   "id": "c26231c3-35c3-41dc-b51c-b2e7c62dce17",
   "metadata": {},
   "outputs": [],
   "source": [
    "Q7. How Binomial distribution different from Poisson distribution?\n",
    "\n",
    "Ans-\n",
    "\n",
    "Binomial and Poisson distributions are both probability distributions used to model the number of occurrences of events.\n",
    "However, they have some key differences.\n",
    "\n",
    "1.Number of Trials: \n",
    "In a binomial distribution, the number of trials is fixed, and each trial is independent of the others. \n",
    "In a Poisson distribution, the number of occurrences is not fixed and can be infinite.\n",
    "\n",
    "2.Probability of Success: \n",
    "In a binomial distribution, the probability of success is constant for each trial. \n",
    "In a Poisson distribution, the probability of occurrence is low for any given trial.\n",
    "\n",
    "3.Type of Events:\n",
    "Binomial distribution is used to model discrete events that have a finite number of possible outcomes,\n",
    "while Poisson distribution is used to model events that have a large number of possible outcomes.\n",
    "\n",
    "4.Mean and Variance: \n",
    "In a binomial distribution, the mean and variance are both calculated using the number of trials and probability of success. \n",
    "In a Poisson distribution, the mean and variance are equal and are calculated using the rate parameter λ.\n",
    "\n",
    "5.Assumptions: \n",
    "In a binomial distribution, the trials are assumed to be independent and have a fixed probability of success. \n",
    "In a Poisson distribution, the occurrences are assumed to be random and independent of each other."
   ]
  },
  {
   "cell_type": "code",
   "execution_count": 6,
   "id": "b50f20e2-55d7-4506-a613-13a87d18051e",
   "metadata": {},
   "outputs": [
    {
     "name": "stdout",
     "output_type": "stream",
     "text": [
      "Sample Mean: 5.019\n",
      "Sample Variance: 4.700638999999999\n"
     ]
    }
   ],
   "source": [
    "#Q8. Generate a random sample of size 1000 from a Poisson distribution with mean 5 and calculate the sample mean and variance.\n",
    "\n",
    "#Ans-\n",
    "\n",
    "import numpy as np\n",
    "\n",
    "# Set the mean and sample size\n",
    "mu = 5\n",
    "n = 1000\n",
    "\n",
    "# Generate a random sample of size 1000 from a Poisson distribution with mean 5\n",
    "sample = np.random.poisson(mu, size=n)\n",
    "\n",
    "# Calculate the sample mean and variance\n",
    "sample_mean = np.mean(sample)\n",
    "sample_var = np.var(sample)\n",
    "\n",
    "# Print the results\n",
    "print(\"Sample Mean:\", sample_mean)\n",
    "print(\"Sample Variance:\", sample_var)\n"
   ]
  },
  {
   "cell_type": "code",
   "execution_count": null,
   "id": "3a7c8662-de94-47bd-b71b-a78e3370d47c",
   "metadata": {},
   "outputs": [],
   "source": [
    "Q9. How mean and variance are related in Binomial distribution and Poisson distribution?\n",
    "\n",
    "Ans-\n",
    "\n",
    "--In a binomial distribution, the mean and variance are both calculated using the number of trials (n) and probability of success (p) as follows:\n",
    "\n",
    "Mean = n * p\n",
    "\n",
    "Variance = n * p * (1 - p)\n",
    "\n",
    "--In a Poisson distribution, the mean and variance are equal and are calculated using the rate parameter (λ) as follows:\n",
    "\n",
    "Mean = Variance = λ\n",
    "\n",
    "So, in both binomial and Poisson distributions, the mean and variance are directly related to the parameters that define the distributions. \n",
    "For the binomial distribution, the mean and variance increase as the number of trials and/or probability of success increase. \n",
    "For the Poisson distribution, the mean and variance both increase as the rate parameter increases.\n",
    "\n",
    "However, the relationship between the mean and variance differs between these two distributions. \n",
    "In a binomial distribution, the variance is a function of both the number of trials and probability of success, and is generally larger than the mean when the probability of success is close to 0 or 1.\n",
    "In contrast, the Poisson distribution has a variance that is equal to the mean, regardless of the value of the rate parameter."
   ]
  },
  {
   "cell_type": "code",
   "execution_count": null,
   "id": "68aca3d4-3cb1-46fe-854e-d7ecdfec71bc",
   "metadata": {},
   "outputs": [],
   "source": [
    "Q10. In normal distribution with respect to mean position, where does the least frequent data appear?\n",
    "\n",
    "Ans-\n",
    "\n",
    "In a normal distribution, the least frequent data appears at the tails of the distribution, which are the regions that are furthest away from the mean. \n",
    "The normal distribution is symmetric around the mean, with the highest frequency of data occurring at the center of the distribution. \n",
    "As we move away from the mean in either direction, the frequency of data decreases, reaching a minimum at the tails of the distribution.\n",
    "\n",
    "The precise location of the least frequent data depends on the width of the distribution, which is determined by the standard deviation. \n",
    "For example, in a normal distribution with a mean of 0 and a standard deviation of 1, the least frequent data would appear at values that are more than 3 standard deviations away from the mean.\n",
    "In general, the further away from the mean a value is, the less likely it is to occur, and the frequency of data decreases exponentially as we move further away from the mean."
   ]
  }
 ],
 "metadata": {
  "kernelspec": {
   "display_name": "Python 3 (ipykernel)",
   "language": "python",
   "name": "python3"
  },
  "language_info": {
   "codemirror_mode": {
    "name": "ipython",
    "version": 3
   },
   "file_extension": ".py",
   "mimetype": "text/x-python",
   "name": "python",
   "nbconvert_exporter": "python",
   "pygments_lexer": "ipython3",
   "version": "3.10.8"
  }
 },
 "nbformat": 4,
 "nbformat_minor": 5
}
